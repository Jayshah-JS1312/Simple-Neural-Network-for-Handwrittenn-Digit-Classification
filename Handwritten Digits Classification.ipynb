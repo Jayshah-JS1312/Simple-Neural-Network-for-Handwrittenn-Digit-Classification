{
 "cells": [
  {
   "cell_type": "markdown",
   "metadata": {},
   "source": [
    "# MNIST Handwritten Digit Classification"
   ]
  },
  {
   "cell_type": "markdown",
   "metadata": {},
   "source": [
    "## Importing required libraries"
   ]
  },
  {
   "cell_type": "code",
   "execution_count": 39,
   "metadata": {},
   "outputs": [],
   "source": [
    "import numpy as np\n",
    "import matplotlib.pyplot as plt\n",
    "%matplotlib inline\n",
    "import seaborn as sn\n",
    "import tensorflow as tf\n",
    "from tensorflow import keras"
   ]
  },
  {
   "cell_type": "markdown",
   "metadata": {},
   "source": [
    "## Loading the dataset"
   ]
  },
  {
   "cell_type": "code",
   "execution_count": 4,
   "metadata": {},
   "outputs": [
    {
     "name": "stdout",
     "output_type": "stream",
     "text": [
      "Downloading data from https://storage.googleapis.com/tensorflow/tf-keras-datasets/mnist.npz\n",
      "11493376/11490434 [==============================] - 16s 1us/step\n"
     ]
    }
   ],
   "source": [
    "(X_train,y_train),(X_test,y_test) = keras.datasets.mnist.load_data()"
   ]
  },
  {
   "cell_type": "markdown",
   "metadata": {},
   "source": [
    "## Calculating total training & testing examples along with size of each image"
   ]
  },
  {
   "cell_type": "code",
   "execution_count": 17,
   "metadata": {},
   "outputs": [
    {
     "name": "stdout",
     "output_type": "stream",
     "text": [
      "Total training examples are:  60000\n",
      "Total testing examples are:  10000\n",
      "Shape of each image is:  (28, 28)\n"
     ]
    }
   ],
   "source": [
    "print(\"Total training examples are: \",len(X_train))\n",
    "print(\"Total testing examples are: \",len(X_test))\n",
    "print(\"Shape of each image is: \",X_train[0].shape)"
   ]
  },
  {
   "cell_type": "markdown",
   "metadata": {},
   "source": [
    "## Data visualization of some Training Images"
   ]
  },
  {
   "cell_type": "code",
   "execution_count": 9,
   "metadata": {},
   "outputs": [
    {
     "data": {
      "image/png": "[encoded data removed]",
      "text/plain": [
       "<Figure size 288x288 with 1 Axes>"
      ]
     },
     "metadata": {
      "needs_background": "light"
     },
     "output_type": "display_data"
    },
    {
     "data": {
      "image/png": "[encoded data removed]",
      "text/plain": [
       "<Figure size 288x288 with 1 Axes>"
      ]
     },
     "metadata": {
      "needs_background": "light"
     },
     "output_type": "display_data"
    },
    {
     "data": {
      "image/png": "[encoded data removed]",
      "text/plain": [
       "<Figure size 288x288 with 1 Axes>"
      ]
     },
     "metadata": {
      "needs_background": "light"
     },
     "output_type": "display_data"
    },
    {
     "data": {
      "image/png": "[encoded data removed]",
      "text/plain": [
       "<Figure size 288x288 with 1 Axes>"
      ]
     },
     "metadata": {
      "needs_background": "light"
     },
     "output_type": "display_data"
    },
    {
     "data": {
      "image/png": "[encoded data removed]",
      "text/plain": [
       "<Figure size 288x288 with 1 Axes>"
      ]
     },
     "metadata": {
      "needs_background": "light"
     },
     "output_type": "display_data"
    }
   ],
   "source": [
    "for i in range(0,5):\n",
    "    plt.matshow(X_train[i])"
   ]
  },
  {
   "cell_type": "markdown",
   "metadata": {},
   "source": [
    "## Actual values of above images "
   ]
  },
  {
   "cell_type": "code",
   "execution_count": 11,
   "metadata": {},
   "outputs": [
    {
     "name": "stdout",
     "output_type": "stream",
     "text": [
      "Actual answers of above image is:  [5 0 4 1 9]\n"
     ]
    }
   ],
   "source": [
    "print(\"Actual answers of above image is: \",y_train[:5])"
   ]
  },
  {
   "cell_type": "markdown",
   "metadata": {},
   "source": [
    "## Normalizing values of image"
   ]
  },
  {
   "cell_type": "code",
   "execution_count": 21,
   "metadata": {},
   "outputs": [],
   "source": [
    "X_train = X_train/255\n",
    "X_test = X_test/255"
   ]
  },
  {
   "cell_type": "markdown",
   "metadata": {},
   "source": [
    "## Flattening the shape of image from (60000,28,28) to (60000,784)"
   ]
  },
  {
   "cell_type": "code",
   "execution_count": 22,
   "metadata": {},
   "outputs": [
    {
     "name": "stdout",
     "output_type": "stream",
     "text": [
      "Now the dimensions of training images are:  (60000, 784)\n",
      "Now the dimensions of test images are:  (10000, 784)\n"
     ]
    }
   ],
   "source": [
    "X_train_flat = X_train.reshape(len(X_train),28*28)\n",
    "print(\"Now the dimensions of training images are: \",X_train_flat.shape)\n",
    "\n",
    "X_test_flat = X_test.reshape(len(X_test),28*28)\n",
    "print(\"Now the dimensions of test images are: \",X_test_flat.shape)"
   ]
  },
  {
   "cell_type": "markdown",
   "metadata": {},
   "source": [
    "## Simple neural network with no hidden layer. Input layer is directly connected to hidden layer"
   ]
  },
  {
   "cell_type": "code",
   "execution_count": 23,
   "metadata": {},
   "outputs": [
    {
     "name": "stdout",
     "output_type": "stream",
     "text": [
      "Train on 60000 samples\n",
      "Epoch 1/5\n",
      "60000/60000 [==============================] - 3s 48us/sample - loss: 0.4871 - accuracy: 0.8796\n",
      "Epoch 2/5\n",
      "60000/60000 [==============================] - 3s 46us/sample - loss: 0.3062 - accuracy: 0.9158\n",
      "Epoch 3/5\n",
      "60000/60000 [==============================] - 2s 41us/sample - loss: 0.2851 - accuracy: 0.9212\n",
      "Epoch 4/5\n",
      "60000/60000 [==============================] - 3s 47us/sample - loss: 0.2747 - accuracy: 0.9243\n",
      "Epoch 5/5\n",
      "60000/60000 [==============================] - 2s 41us/sample - loss: 0.2682 - accuracy: 0.9258\n"
     ]
    },
    {
     "data": {
      "text/plain": [
       "<tensorflow.python.keras.callbacks.History at 0x1f812a84c08>"
      ]
     },
     "execution_count": 23,
     "metadata": {},
     "output_type": "execute_result"
    }
   ],
   "source": [
    "model = keras.Sequential([\n",
    "    keras.layers.Dense(10, input_shape=(784,),activation='sigmoid')\n",
    "])\n",
    "\n",
    "model.compile(optimizer='adam',loss='sparse_categorical_crossentropy',metrics=['accuracy'])\n",
    "\n",
    "model.fit(X_train_flat,y_train,epochs=5)"
   ]
  },
  {
   "cell_type": "markdown",
   "metadata": {},
   "source": [
    "## Calculation of loss and accuracy on testing data"
   ]
  },
  {
   "cell_type": "code",
   "execution_count": 27,
   "metadata": {},
   "outputs": [
    {
     "name": "stdout",
     "output_type": "stream",
     "text": [
      "10000/10000 [==============================] - 0s 34us/sample - loss: 0.2656 - accuracy: 0.9265\n",
      "Loss on test dataset is:  0.2655695793867111\n",
      "Accuracy on test dataset is:  0.9265\n"
     ]
    }
   ],
   "source": [
    "loss,accuracy = model.evaluate(X_test_flat,y_test)\n",
    "print(\"Loss on test dataset is: \",loss)\n",
    "print(\"Accuracy on test dataset is: \",accuracy)"
   ]
  },
  {
   "cell_type": "markdown",
   "metadata": {},
   "source": [
    "## Calculating the predictions"
   ]
  },
  {
   "cell_type": "code",
   "execution_count": 36,
   "metadata": {},
   "outputs": [
    {
     "data": {
      "text/plain": [
       "array([[1.6675735e-05, 9.9445611e-11, 3.7794845e-05, ..., 7.8227043e-01,\n",
       "        6.8956455e-05, 1.2183134e-03],\n",
       "       [2.8644386e-04, 1.1531911e-06, 5.1218987e-01, ..., 3.4745726e-16,\n",
       "        8.1946127e-05, 3.9978416e-13],\n",
       "       [1.5204068e-06, 4.1817325e-01, 7.6970309e-03, ..., 6.9501280e-04,\n",
       "        2.9339055e-03, 2.8087030e-04],\n",
       "       ...,\n",
       "       [2.4077365e-11, 3.2361034e-11, 1.2413762e-08, ..., 4.6241998e-06,\n",
       "        1.9754218e-05, 1.0450929e-04],\n",
       "       [1.0818269e-08, 2.8298073e-08, 1.9523593e-08, ..., 6.9463368e-09,\n",
       "        3.4430966e-04, 2.7811726e-08],\n",
       "       [6.4874584e-08, 2.0236189e-15, 1.1802747e-06, ..., 1.2547512e-13,\n",
       "        2.7125617e-09, 1.4626481e-12]], dtype=float32)"
      ]
     },
     "execution_count": 36,
     "metadata": {},
     "output_type": "execute_result"
    }
   ],
   "source": [
    "y_predicted = model.predict(X_test_flat)\n",
    "y_predicted"
   ]
  },
  {
   "cell_type": "markdown",
   "metadata": {},
   "source": [
    "## Predicted values are converted to actual output labels"
   ]
  },
  {
   "cell_type": "code",
   "execution_count": 37,
   "metadata": {},
   "outputs": [],
   "source": [
    "#In above block y_predicted values are floating values so we need to convert them\n",
    "y_fin_output = [np.argmax(i) for i in y_predicted]"
   ]
  },
  {
   "cell_type": "markdown",
   "metadata": {},
   "source": [
    "## Visualization of testing images "
   ]
  },
  {
   "cell_type": "code",
   "execution_count": 33,
   "metadata": {},
   "outputs": [
    {
     "data": {
      "image/png": "[encoded data removed]",
      "text/plain": [
       "<Figure size 288x288 with 1 Axes>"
      ]
     },
     "metadata": {
      "needs_background": "light"
     },
     "output_type": "display_data"
    },
    {
     "data": {
      "image/png": "[encoded data removed]",
      "text/plain": [
       "<Figure size 288x288 with 1 Axes>"
      ]
     },
     "metadata": {
      "needs_background": "light"
     },
     "output_type": "display_data"
    },
    {
     "data": {
      "image/png": "[encoded data removed]",
      "text/plain": [
       "<Figure size 288x288 with 1 Axes>"
      ]
     },
     "metadata": {
      "needs_background": "light"
     },
     "output_type": "display_data"
    },
    {
     "data": {
      "image/png": "[encoded data removed]",
      "text/plain": [
       "<Figure size 288x288 with 1 Axes>"
      ]
     },
     "metadata": {
      "needs_background": "light"
     },
     "output_type": "display_data"
    },
    {
     "data": {
      "image/png": "[encoded data removed]",
      "text/plain": [
       "<Figure size 288x288 with 1 Axes>"
      ]
     },
     "metadata": {
      "needs_background": "light"
     },
     "output_type": "display_data"
    }
   ],
   "source": [
    "#Visualization of first 5 testing images\n",
    "for i in range(0,5):\n",
    "    plt.matshow(X_test[i])"
   ]
  },
  {
   "cell_type": "markdown",
   "metadata": {},
   "source": [
    "## Our predictions on above images"
   ]
  },
  {
   "cell_type": "code",
   "execution_count": 35,
   "metadata": {},
   "outputs": [
    {
     "name": "stdout",
     "output_type": "stream",
     "text": [
      "Predicted results on first 5 testing images are:  7\n",
      "Predicted results on first 5 testing images are:  2\n",
      "Predicted results on first 5 testing images are:  1\n",
      "Predicted results on first 5 testing images are:  0\n",
      "Predicted results on first 5 testing images are:  4\n"
     ]
    }
   ],
   "source": [
    "#Predicted results on testing data\n",
    "for i in range(0,5):\n",
    "    print(\"Predicted results on first 5 testing images are: \",np.argmax(y_predicted[i]))"
   ]
  },
  {
   "cell_type": "markdown",
   "metadata": {},
   "source": [
    "## Plotting the confusion matrix"
   ]
  },
  {
   "cell_type": "code",
   "execution_count": 42,
   "metadata": {},
   "outputs": [
    {
     "data": {
      "text/plain": [
       "Text(87.0, 0.5, 'Actual values')"
      ]
     },
     "execution_count": 42,
     "metadata": {},
     "output_type": "execute_result"
    },
    {
     "data": {
      "image/png": "[encoded data removed]",
      "text/plain": [
       "<Figure size 864x504 with 2 Axes>"
      ]
     },
     "metadata": {
      "needs_background": "light"
     },
     "output_type": "display_data"
    }
   ],
   "source": [
    "#Plotting the confusion matrix\n",
    "cm = tf.math.confusion_matrix(labels = y_test,predictions = y_fin_output)\n",
    "plt.figure(figsize=(12,7))\n",
    "sn.heatmap(cm,annot=True,fmt='d')\n",
    "plt.xlabel(\"Predicted values\")\n",
    "plt.ylabel(\"Actual values\")"
   ]
  },
  {
   "cell_type": "markdown",
   "metadata": {},
   "source": [
    "## Building new model with hidden layers in neural network"
   ]
  },
  {
   "cell_type": "code",
   "execution_count": 51,
   "metadata": {},
   "outputs": [
    {
     "name": "stdout",
     "output_type": "stream",
     "text": [
      "Train on 60000 samples\n",
      "Epoch 1/10\n",
      "60000/60000 [==============================] - 4s 70us/sample - loss: 0.2749 - accuracy: 0.9223\n",
      "Epoch 2/10\n",
      "60000/60000 [==============================] - 5s 79us/sample - loss: 0.1172 - accuracy: 0.9647\n",
      "Epoch 3/10\n",
      "60000/60000 [==============================] - 4s 65us/sample - loss: 0.0837 - accuracy: 0.9749\n",
      "Epoch 4/10\n",
      "60000/60000 [==============================] - 4s 67us/sample - loss: 0.0644 - accuracy: 0.9804\n",
      "Epoch 5/10\n",
      "60000/60000 [==============================] - 4s 69us/sample - loss: 0.0511 - accuracy: 0.9843\n",
      "Epoch 6/10\n",
      "60000/60000 [==============================] - 4s 69us/sample - loss: 0.0420 - accuracy: 0.9869\n",
      "Epoch 7/10\n",
      "60000/60000 [==============================] - 4s 69us/sample - loss: 0.0354 - accuracy: 0.9886\n",
      "Epoch 8/10\n",
      "60000/60000 [==============================] - 5s 86us/sample - loss: 0.0310 - accuracy: 0.9897\n",
      "Epoch 9/10\n",
      "60000/60000 [==============================] - 6s 95us/sample - loss: 0.0258 - accuracy: 0.9914\n",
      "Epoch 10/10\n",
      "60000/60000 [==============================] - 4s 75us/sample - loss: 0.0243 - accuracy: 0.9920\n"
     ]
    },
    {
     "data": {
      "text/plain": [
       "<tensorflow.python.keras.callbacks.History at 0x1f811ef0f48>"
      ]
     },
     "execution_count": 51,
     "metadata": {},
     "output_type": "execute_result"
    }
   ],
   "source": [
    "#Training new model by adding hidden layers\n",
    "model = keras.Sequential([\n",
    "    keras.layers.Dense(100, input_shape=(784,),activation='relu'),\n",
    "    keras.layers.Dense(60,activation='relu'),\n",
    "    keras.layers.Dense(10,activation='sigmoid')\n",
    "])\n",
    "\n",
    "model.compile(optimizer='adam',loss='sparse_categorical_crossentropy',metrics=['accuracy'])\n",
    "\n",
    "model.fit(X_train_flat,y_train,epochs=10)"
   ]
  },
  {
   "cell_type": "markdown",
   "metadata": {},
   "source": [
    "## Calculation of loss and accuracy on testing data"
   ]
  },
  {
   "cell_type": "code",
   "execution_count": 52,
   "metadata": {},
   "outputs": [
    {
     "name": "stdout",
     "output_type": "stream",
     "text": [
      "10000/10000 [==============================] - 0s 50us/sample - loss: 0.1020 - accuracy: 0.9755\n",
      "Loss on test dataset is:  0.1020047521321394\n",
      "Accuracy on test dataset is:  0.9755\n"
     ]
    }
   ],
   "source": [
    "loss,accuracy = model.evaluate(X_test_flat,y_test)\n",
    "print(\"Loss on test dataset is: \",loss)\n",
    "print(\"Accuracy on test dataset is: \",accuracy)"
   ]
  },
  {
   "cell_type": "markdown",
   "metadata": {},
   "source": [
    "## Plotting the confusion matrix"
   ]
  },
  {
   "cell_type": "code",
   "execution_count": 53,
   "metadata": {},
   "outputs": [
    {
     "data": {
      "text/plain": [
       "Text(87.0, 0.5, 'Actual values')"
      ]
     },
     "execution_count": 53,
     "metadata": {},
     "output_type": "execute_result"
    },
    {
     "data": {
      "image/png": "[encoded data removed]",
      "text/plain": [
       "<Figure size 864x504 with 2 Axes>"
      ]
     },
     "metadata": {
      "needs_background": "light"
     },
     "output_type": "display_data"
    }
   ],
   "source": [
    "y_predicted = model.predict(X_test_flat)\n",
    "y_fin_output = [np.argmax(i) for i in y_predicted]\n",
    "\n",
    "\n",
    "cm = tf.math.confusion_matrix(labels = y_test,predictions = y_fin_output)\n",
    "plt.figure(figsize=(12,7))\n",
    "sn.heatmap(cm,annot=True,fmt='d')\n",
    "plt.xlabel(\"Predicted values\")\n",
    "plt.ylabel(\"Actual values\")"
   ]
  }
 ],
 "metadata": {
  "kernelspec": {
   "display_name": "Python 3",
   "language": "python",
   "name": "python3"
  },
  "language_info": {
   "codemirror_mode": {
    "name": "ipython",
    "version": 3
   },
   "file_extension": ".py",
   "mimetype": "text/x-python",
   "name": "python",
   "nbconvert_exporter": "python",
   "pygments_lexer": "ipython3",
   "version": "3.7.4"
  }
 },
 "nbformat": 4,
 "nbformat_minor": 2
}
